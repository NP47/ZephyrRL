{
 "cells": [
  {
   "cell_type": "code",
   "execution_count": 1,
   "metadata": {},
   "outputs": [
    {
     "name": "stderr",
     "output_type": "stream",
     "text": [
      "/home/wizard/.local/lib/python3.10/site-packages/tqdm/auto.py:21: TqdmWarning: IProgress not found. Please update jupyter and ipywidgets. See https://ipywidgets.readthedocs.io/en/stable/user_install.html\n",
      "  from .autonotebook import tqdm as notebook_tqdm\n"
     ]
    },
    {
     "name": "stdout",
     "output_type": "stream",
     "text": [
      "pygame 2.6.1 (SDL 2.28.4, Python 3.10.12)\n",
      "Hello from the pygame community. https://www.pygame.org/contribute.html\n"
     ]
    }
   ],
   "source": [
    "import sys\n",
    "import os\n",
    "sys.path.append(os.path.abspath(\"..\"))\n",
    "\n",
    "from src.training_algorithms.reinforce import REINFORCE\n",
    "from src.env.sailboat_env import SailboatEnv\n",
    "from src.utils.plotting import training_reward\n",
    "\n",
    "import torch\n",
    "import time\n",
    "from datetime import timedelta\n",
    "import numpy as np\n",
    "import matplotlib.pyplot as plt\n"
   ]
  },
  {
   "cell_type": "code",
   "execution_count": 2,
   "metadata": {},
   "outputs": [
    {
     "name": "stdout",
     "output_type": "stream",
     "text": [
      "Loaded saved model from ../model_saves/noah_model.pth\n",
      "Saved model at episode 0\n",
      "Episode 0: Reward -1.47, Avg (last 10): -1.47\n"
     ]
    },
    {
     "ename": "",
     "evalue": "",
     "output_type": "error",
     "traceback": [
      "\u001b[1;31mThe Kernel crashed while executing code in the current cell or a previous cell. \n",
      "\u001b[1;31mPlease review the code in the cell(s) to identify a possible cause of the failure. \n",
      "\u001b[1;31mClick <a href='https://aka.ms/vscodeJupyterKernelCrash'>here</a> for more info. \n",
      "\u001b[1;31mView Jupyter <a href='command:jupyter.viewOutput'>log</a> for further details."
     ]
    }
   ],
   "source": [
    "# Define custom environment parameters per user\n",
    "ENV_PARAMS = {\n",
    "    \"wind_speed\": np.random.uniform(5, 15),  # Vary wind speed\n",
    "    \"theta_wind\": np.random.uniform(0, 2 * np.pi),  # Vary wind direction\n",
    "    \"max_steps\": 1500  # Change episode length\n",
    "}\n",
    "\n",
    "# Training parameters\n",
    "TOTAL_EPISODES = 200\n",
    "SAVE_INTERVAL = 100 # Save model every X episodes\n",
    "\n",
    "\n",
    "\n",
    "MODEL_SAVE_PATH = \"../model_saves/noah_model.pth\"\n",
    "\n",
    "# Initialize environment and agent\n",
    "#env = SailboatEnv(**ENV_PARAMS)\n",
    "env = SailboatEnv()\n",
    "\n",
    "obs_space_dims = 8\n",
    "action_space_dims = 1\n",
    "\n",
    "\n",
    "\n",
    "agent = REINFORCE(obs_space_dims, action_space_dims)\n",
    "reward_over_episodes = []\n",
    "\n",
    "\n",
    "start_time = time.time()  # Start timing\n",
    "# Training loop\n",
    "for episode in range(TOTAL_EPISODES):\n",
    "    episode_start_time = time.time()  # Record episode start time\n",
    "    obs = env.reset()\n",
    "    episode_reward = 0\n",
    "    done = False\n",
    "    \n",
    "    while not done:\n",
    "        action = agent.sample_action(obs)\n",
    "        obs, reward, done, _ = env.step(action)\n",
    "        agent.rewards.append(reward)\n",
    "        episode_reward += reward\n",
    "        \n",
    "        if episode % 10 == 0:  # Render every 500 episodes\n",
    "            time.sleep(1/60)\n",
    "            env.draw()\n",
    "    \n",
    "    reward_over_episodes.append(episode_reward)\n",
    "    agent.update()\n",
    "    \n",
    "    # Calculate time per episode\n",
    "    episode_time = time.time() - episode_start_time  \n",
    "    elapsed_time = time.time() - start_time  \n",
    "\n",
    "    # Estimate total training time\n",
    "    estimated_total_time = (elapsed_time / episode) * TOTAL_EPISODES\n",
    "    remaining_time = estimated_total_time - elapsed_time\n",
    "    \n",
    "    if episode % SAVE_INTERVAL == 0:\n",
    "        torch.save(agent.net.state_dict(), MODEL_SAVE_PATH)\n",
    "        print(f\"Saved model at episode {episode}\")\n",
    "    \n",
    "    if episode % 10 == 0:\n",
    "        avg_reward = np.mean(reward_over_episodes[-10:])\n",
    "        print(f\"Episode {episode}: Reward {episode_reward:.2f}, Avg (last 10): {avg_reward:.2f}\")\n",
    "        print(f\"Estimated Remaining: {timedelta(seconds=int(remaining_time))}\")\n",
    "\n",
    "\n",
    "training_reward(reward_over_episodes, 'Test Training')"
   ]
  },
  {
   "cell_type": "code",
   "execution_count": 5,
   "metadata": {},
   "outputs": [
    {
     "name": "stdout",
     "output_type": "stream",
     "text": [
      "Predicted action for input state: [-2.4190266]\n"
     ]
    },
    {
     "data": {
      "text/plain": [
       "array([-2.4190266], dtype=float32)"
      ]
     },
     "execution_count": 5,
     "metadata": {},
     "output_type": "execute_result"
    }
   ],
   "source": [
    "# Testing the trained model on a given state\n",
    "def test_model(state_input):\n",
    "    \"\"\"Runs the trained RL model on a provided state.\"\"\"\n",
    "    if not os.path.exists(MODEL_SAVE_PATH):\n",
    "        print(\"No trained model found.\")\n",
    "        return\n",
    "    agent.net.load_state_dict(torch.load(MODEL_SAVE_PATH))\n",
    "    state = np.array(state_input)\n",
    "    action = agent.sample_action(state)\n",
    "    print(\"Predicted action for input state:\", action)\n",
    "    return action\n",
    "\n",
    "# Example usage: Provide a sample state\n",
    "sample_state = [0.5, 0.5, 0.01, 0.01, 0.02, 0.3, np.pi, 10]\n",
    "test_model(sample_state)"
   ]
  },
  {
   "cell_type": "code",
   "execution_count": null,
   "metadata": {},
   "outputs": [],
   "source": []
  }
 ],
 "metadata": {
  "kernelspec": {
   "display_name": "Python 3",
   "language": "python",
   "name": "python3"
  },
  "language_info": {
   "codemirror_mode": {
    "name": "ipython",
    "version": 3
   },
   "file_extension": ".py",
   "mimetype": "text/x-python",
   "name": "python",
   "nbconvert_exporter": "python",
   "pygments_lexer": "ipython3",
   "version": "3.10.12"
  }
 },
 "nbformat": 4,
 "nbformat_minor": 2
}

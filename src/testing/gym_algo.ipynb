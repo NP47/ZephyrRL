{
 "cells": [
  {
   "cell_type": "code",
   "execution_count": 1,
   "metadata": {},
   "outputs": [
    {
     "name": "stderr",
     "output_type": "stream",
     "text": [
      "/home/wizard/.local/lib/python3.10/site-packages/tqdm/auto.py:21: TqdmWarning: IProgress not found. Please update jupyter and ipywidgets. See https://ipywidgets.readthedocs.io/en/stable/user_install.html\n",
      "  from .autonotebook import tqdm as notebook_tqdm\n"
     ]
    },
    {
     "name": "stdout",
     "output_type": "stream",
     "text": [
      "pygame 2.6.1 (SDL 2.28.4, Python 3.10.12)\n",
      "Hello from the pygame community. https://www.pygame.org/contribute.html\n"
     ]
    },
    {
     "ename": "FileNotFoundError",
     "evalue": "[Errno 2] No such file or directory: 'ship.pkl'",
     "output_type": "error",
     "traceback": [
      "\u001b[0;31m---------------------------------------------------------------------------\u001b[0m",
      "\u001b[0;31mFileNotFoundError\u001b[0m                         Traceback (most recent call last)",
      "Cell \u001b[0;32mIn[1], line 15\u001b[0m\n\u001b[1;32m     13\u001b[0m \u001b[38;5;28;01mfrom\u001b[39;00m \u001b[38;5;21;01mtraining_algorithms\u001b[39;00m\u001b[38;5;21;01m.\u001b[39;00m\u001b[38;5;21;01mgymnasium_reinforce\u001b[39;00m \u001b[38;5;28;01mimport\u001b[39;00m REINFORCE\n\u001b[1;32m     14\u001b[0m \u001b[38;5;28;01mfrom\u001b[39;00m \u001b[38;5;21;01menv\u001b[39;00m\u001b[38;5;21;01m.\u001b[39;00m\u001b[38;5;21;01mtest_env\u001b[39;00m \u001b[38;5;28;01mimport\u001b[39;00m Car, CarEnv\n\u001b[0;32m---> 15\u001b[0m \u001b[38;5;28;01mfrom\u001b[39;00m \u001b[38;5;21;01menv\u001b[39;00m\u001b[38;5;21;01m.\u001b[39;00m\u001b[38;5;21;01msail_env\u001b[39;00m \u001b[38;5;28;01mimport\u001b[39;00m SailboatEnv \n",
      "File \u001b[0;32m~/MSc Mathematics RUG/Study/2024-2025/1b/Deep Learning/ZephyrRL/src/env/sail_env.py:68\u001b[0m\n\u001b[1;32m     65\u001b[0m \u001b[38;5;28;01mimport\u001b[39;00m \u001b[38;5;21;01msys\u001b[39;00m\n\u001b[1;32m     66\u001b[0m \u001b[38;5;28;01mimport\u001b[39;00m \u001b[38;5;21;01mos\u001b[39;00m\n\u001b[0;32m---> 68\u001b[0m \u001b[38;5;28;01mfrom\u001b[39;00m \u001b[38;5;21;01menv\u001b[39;00m\u001b[38;5;21;01m.\u001b[39;00m\u001b[38;5;21;01mship\u001b[39;00m \u001b[38;5;28;01mimport\u001b[39;00m trajectory \u001b[38;5;66;03m###ship.py\u001b[39;00m\n\u001b[1;32m     69\u001b[0m \u001b[38;5;28;01mfrom\u001b[39;00m \u001b[38;5;21;01menv\u001b[39;00m\u001b[38;5;21;01m.\u001b[39;00m\u001b[38;5;21;01mship\u001b[39;00m \u001b[38;5;28;01mimport\u001b[39;00m get_speed \u001b[38;5;66;03m###ship.py\u001b[39;00m\n\u001b[1;32m     73\u001b[0m \u001b[38;5;66;03m# Add the project directory (parent of testing and algos) to sys.path\u001b[39;00m\n\u001b[1;32m     74\u001b[0m \n\u001b[1;32m     75\u001b[0m \n\u001b[1;32m     76\u001b[0m \u001b[38;5;66;03m##################################################################################################################################################\u001b[39;00m\n",
      "File \u001b[0;32m~/MSc Mathematics RUG/Study/2024-2025/1b/Deep Learning/ZephyrRL/src/env/ship.py:53\u001b[0m\n\u001b[1;32m     47\u001b[0m     \u001b[38;5;28;01mreturn\u001b[39;00m speed\n\u001b[1;32m     49\u001b[0m \u001b[38;5;66;03m##########################MANEOUVER\u001b[39;00m\n\u001b[1;32m     50\u001b[0m \n\u001b[1;32m     51\u001b[0m \u001b[38;5;66;03m##Public Ship characteristics example maneouvrability standard ship\u001b[39;00m\n\u001b[1;32m     52\u001b[0m \u001b[38;5;66;03m# To extract the data from the pickle file\u001b[39;00m\n\u001b[0;32m---> 53\u001b[0m \u001b[38;5;28;01mwith\u001b[39;00m \u001b[38;5;28;43mopen\u001b[39;49m\u001b[43m(\u001b[49m\u001b[38;5;124;43m'\u001b[39;49m\u001b[38;5;124;43mship.pkl\u001b[39;49m\u001b[38;5;124;43m'\u001b[39;49m\u001b[43m,\u001b[49m\u001b[43m \u001b[49m\u001b[38;5;124;43m\"\u001b[39;49m\u001b[38;5;124;43mrb\u001b[39;49m\u001b[38;5;124;43m\"\u001b[39;49m\u001b[43m)\u001b[49m \u001b[38;5;28;01mas\u001b[39;00m f:\n\u001b[1;32m     54\u001b[0m     \u001b[38;5;66;03m# Load the data from the file\u001b[39;00m\n\u001b[1;32m     55\u001b[0m     loaded_data \u001b[38;5;241m=\u001b[39m pickle\u001b[38;5;241m.\u001b[39mload(f)\n\u001b[1;32m     57\u001b[0m \u001b[38;5;66;03m# Assign the values to variables with the same names\u001b[39;00m\n",
      "\u001b[0;31mFileNotFoundError\u001b[0m: [Errno 2] No such file or directory: 'ship.pkl'"
     ]
    }
   ],
   "source": [
    "import sys\n",
    "import os\n",
    "\n",
    "# Add the project directory (parent of testing and algos) to sys.path\n",
    "sys.path.append(os.path.abspath(\"..\"))\n",
    "\n",
    "\n",
    "import torch\n",
    "import time\n",
    "import numpy as np\n",
    "\n",
    "\n",
    "from training_algorithms.gymnasium_reinforce import REINFORCE\n",
    "from env.test_env import Car, CarEnv\n",
    "from env.sail_env import SailboatEnv "
   ]
  },
  {
   "cell_type": "code",
   "execution_count": 2,
   "metadata": {},
   "outputs": [
    {
     "ename": "NameError",
     "evalue": "name 'SailboatEnv' is not defined",
     "output_type": "error",
     "traceback": [
      "\u001b[0;31m---------------------------------------------------------------------------\u001b[0m",
      "\u001b[0;31mNameError\u001b[0m                                 Traceback (most recent call last)",
      "Cell \u001b[0;32mIn[2], line 2\u001b[0m\n\u001b[1;32m      1\u001b[0m \u001b[38;5;66;03m# Create and wrap the environment\u001b[39;00m\n\u001b[0;32m----> 2\u001b[0m env \u001b[38;5;241m=\u001b[39m \u001b[43mSailboatEnv\u001b[49m(\u001b[38;5;241m10\u001b[39m)\n\u001b[1;32m      5\u001b[0m total_num_episodes \u001b[38;5;241m=\u001b[39m \u001b[38;5;28mint\u001b[39m(\u001b[38;5;241m5e3\u001b[39m)  \u001b[38;5;66;03m# Total number of episodes\u001b[39;00m\n\u001b[1;32m      8\u001b[0m obs_space_dims \u001b[38;5;241m=\u001b[39m \u001b[38;5;241m4\u001b[39m \u001b[38;5;66;03m#create obervation space\u001b[39;00m\n",
      "\u001b[0;31mNameError\u001b[0m: name 'SailboatEnv' is not defined"
     ]
    }
   ],
   "source": [
    "# Create and wrap the environment\n",
    "env = SailboatEnv(10)\n",
    "\n",
    "\n",
    "total_num_episodes = int(5e3)  # Total number of episodes\n",
    "\n",
    "\n",
    "obs_space_dims = 4 #create obervation space\n",
    "action_space_dims = 2 #create action space\n",
    "\n",
    "seed = 42\n",
    "\n",
    "\n",
    "# Reinitialize agent every seed\n",
    "agent = REINFORCE(obs_space_dims, action_space_dims)\n",
    "reward_over_episodes = []\n",
    "\n",
    "for episode in range(total_num_episodes):\n",
    "    \n",
    "    obs = env.reset() \n",
    "\n",
    "    episode_reward = 0\n",
    "    done = False\n",
    "    while not done:\n",
    "        action = agent.sample_action(obs)\n",
    "\n",
    "        # Step return type - `tuple[ObsType, SupportsFloat, bool, bool, dict[str, Any]]`\n",
    "        # These represent the next observation, the reward from the step,\n",
    "        # if the episode is terminated, if the episode is truncated and\n",
    "        # additional info from the step\n",
    "        obs, reward, done, info = env.step(action) #this needs to be changed\n",
    "        agent.rewards.append(reward)\n",
    "        episode_reward += reward\n",
    "        # End the episode when either truncated or terminated is true\n",
    "        #  - truncated: The episode duration reaches max number of timesteps\n",
    "        #  - terminated: Any of the state space values is no longer finite.\n",
    "        \n",
    "        if episode % 10 == 0:\n",
    "            \n",
    "        \n",
    "            time.sleep(1/60)\n",
    "            env.draw()\n",
    "\n",
    "\n",
    "    reward_over_episodes.append(episode_reward) \n",
    "    agent.update()\n",
    "\n",
    "    if episode % 10 == 0:\n",
    "        avg_reward = np.mean(reward_over_episodes)\n",
    "        print(\"Episode:\", episode, \"Average Reward:\", avg_reward)\n",
    "        print('Episode:', episode, 'Reward', episode_reward)\n",
    "    \n",
    "        time.sleep(1/60)\n",
    "        env.draw()\n",
    "        \n",
    "\n",
    "\n"
   ]
  },
  {
   "cell_type": "code",
   "execution_count": null,
   "metadata": {},
   "outputs": [],
   "source": []
  }
 ],
 "metadata": {
  "kernelspec": {
   "display_name": "Python 3",
   "language": "python",
   "name": "python3"
  },
  "language_info": {
   "codemirror_mode": {
    "name": "ipython",
    "version": 3
   },
   "file_extension": ".py",
   "mimetype": "text/x-python",
   "name": "python",
   "nbconvert_exporter": "python",
   "pygments_lexer": "ipython3",
   "version": "3.10.12"
  }
 },
 "nbformat": 4,
 "nbformat_minor": 2
}

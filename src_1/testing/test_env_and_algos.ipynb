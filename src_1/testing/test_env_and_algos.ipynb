{
 "cells": [
  {
   "cell_type": "code",
   "execution_count": 1,
   "metadata": {},
   "outputs": [
    {
     "name": "stdout",
     "output_type": "stream",
     "text": [
      "pygame 2.6.1 (SDL 2.28.4, Python 3.10.12)\n",
      "Hello from the pygame community. https://www.pygame.org/contribute.html\n"
     ]
    },
    {
     "name": "stderr",
     "output_type": "stream",
     "text": [
      "/home/wizard/.local/lib/python3.10/site-packages/tqdm/auto.py:21: TqdmWarning: IProgress not found. Please update jupyter and ipywidgets. See https://ipywidgets.readthedocs.io/en/stable/user_install.html\n",
      "  from .autonotebook import tqdm as notebook_tqdm\n"
     ]
    }
   ],
   "source": [
    "import sys\n",
    "import os\n",
    "\n",
    "# Add the project directory (parent of testing and algos) to sys.path\n",
    "sys.path.append(os.path.abspath(\"..\"))\n",
    "\n",
    "import time\n",
    "from env import test_env\n",
    "\n",
    "\n",
    "import random\n",
    "\n",
    "import matplotlib.pyplot as plt\n",
    "import numpy as np\n",
    "import pandas as pd\n",
    "import seaborn as sns\n",
    "import torch\n",
    "\n"
   ]
  },
  {
   "cell_type": "code",
   "execution_count": 2,
   "metadata": {},
   "outputs": [],
   "source": [
    "from training_algorithms.gymnasium_reinforce import REINFORCE"
   ]
  },
  {
   "cell_type": "markdown",
   "metadata": {},
   "source": []
  },
  {
   "cell_type": "code",
   "execution_count": 3,
   "metadata": {},
   "outputs": [
    {
     "name": "stdout",
     "output_type": "stream",
     "text": [
      "Episode: 0 Average Reward: -1\n",
      "Episode: 0 Reward -1.2662023327514833\n",
      "Episode: 10 Average Reward: -1\n",
      "Episode: 10 Reward -1.051118297138053\n",
      "Episode: 20 Average Reward: -1\n",
      "Episode: 20 Reward -1.4589706786999204\n",
      "Episode: 30 Average Reward: -1\n",
      "Episode: 30 Reward -1.407742971158004\n",
      "Episode: 40 Average Reward: -1\n",
      "Episode: 40 Reward -1.4147755574293075\n"
     ]
    },
    {
     "ename": "",
     "evalue": "",
     "output_type": "error",
     "traceback": [
      "\u001b[1;31mThe Kernel crashed while executing code in the current cell or a previous cell. \n",
      "\u001b[1;31mPlease review the code in the cell(s) to identify a possible cause of the failure. \n",
      "\u001b[1;31mClick <a href='https://aka.ms/vscodeJupyterKernelCrash'>here</a> for more info. \n",
      "\u001b[1;31mView Jupyter <a href='command:jupyter.viewOutput'>log</a> for further details."
     ]
    }
   ],
   "source": [
    "# Create and wrap the environment\n",
    "env = test_env.CarEnv(True)\n",
    "\n",
    "\n",
    "total_num_episodes = int(5e3)  # Total number of episodes\n",
    "\n",
    "# Observation-space of InvertedPendulum-v4 (4)\n",
    "obs_space_dims = 6 #create obervation space\n",
    "# Action-space of InvertedPendulum-v4 (1)\n",
    "action_space_dims = 2 #create action space\n",
    "rewards_over_seeds = []\n",
    "\n",
    "for seed in [1, 2, 3, 5, 8]:  # Fibonacci seeds\n",
    "    # set seed\n",
    "    torch.manual_seed(seed)\n",
    "    random.seed(seed)\n",
    "    np.random.seed(seed)\n",
    "\n",
    "    # Reinitialize agent every seed\n",
    "    agent = REINFORCE(obs_space_dims, action_space_dims)\n",
    "    reward_over_episodes = []\n",
    "\n",
    "    for episode in range(total_num_episodes):\n",
    "        # gymnasium v26 requires users to set seed while resetting the environment\n",
    "        obs = env.reset() # this neeeds to be changed add seed\n",
    "\n",
    "        episode_reward = 0\n",
    "        done = False\n",
    "        while not done:\n",
    "            action = agent.sample_action(obs)\n",
    "\n",
    "            # Step return type - `tuple[ObsType, SupportsFloat, bool, bool, dict[str, Any]]`\n",
    "            # These represent the next observation, the reward from the step,\n",
    "            # if the episode is terminated, if the episode is truncated and\n",
    "            # additional info from the step\n",
    "            obs, reward, done, info = env.step(action) #this needs to be changed\n",
    "            agent.rewards.append(reward)\n",
    "            episode_reward += reward\n",
    "            # End the episode when either truncated or terminated is true\n",
    "            #  - truncated: The episode duration reaches max number of timesteps\n",
    "            #  - terminated: Any of the state space values is no longer finite.\n",
    "            \n",
    "            if episode % 10 == 0:\n",
    "                \n",
    "            \n",
    "                time.sleep(1/60)\n",
    "                env.draw()\n",
    "\n",
    "\n",
    "        reward_over_episodes.append(episode_reward) \n",
    "        agent.update()\n",
    "\n",
    "        if episode % 10 == 0:\n",
    "            avg_reward = int(np.mean(reward_over_episodes))\n",
    "            print(\"Episode:\", episode, \"Average Reward:\", avg_reward)\n",
    "            print('Episode:', episode, 'Reward', episode_reward)\n",
    "        \n",
    "            time.sleep(1/60)\n",
    "            env.draw()\n",
    "\n",
    "    rewards_over_seeds.append(reward_over_episodes)\n"
   ]
  },
  {
   "cell_type": "code",
   "execution_count": null,
   "metadata": {},
   "outputs": [],
   "source": []
  }
 ],
 "metadata": {
  "kernelspec": {
   "display_name": "Python 3",
   "language": "python",
   "name": "python3"
  },
  "language_info": {
   "codemirror_mode": {
    "name": "ipython",
    "version": 3
   },
   "file_extension": ".py",
   "mimetype": "text/x-python",
   "name": "python",
   "nbconvert_exporter": "python",
   "pygments_lexer": "ipython3",
   "version": "3.10.12"
  }
 },
 "nbformat": 4,
 "nbformat_minor": 2
}

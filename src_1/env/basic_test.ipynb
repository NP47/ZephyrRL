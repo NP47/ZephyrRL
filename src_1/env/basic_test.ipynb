{
 "cells": [
  {
   "cell_type": "code",
   "execution_count": 1,
   "metadata": {},
   "outputs": [
    {
     "name": "stderr",
     "output_type": "stream",
     "text": [
      "/home/wizard/.local/lib/python3.10/site-packages/tqdm/auto.py:21: TqdmWarning: IProgress not found. Please update jupyter and ipywidgets. See https://ipywidgets.readthedocs.io/en/stable/user_install.html\n",
      "  from .autonotebook import tqdm as notebook_tqdm\n"
     ]
    },
    {
     "name": "stdout",
     "output_type": "stream",
     "text": [
      "pygame 2.6.1 (SDL 2.28.4, Python 3.10.12)\n",
      "Hello from the pygame community. https://www.pygame.org/contribute.html\n"
     ]
    }
   ],
   "source": [
    "import sys\n",
    "import os\n",
    "\n",
    "# Add the project directory (parent of testing and algos) to sys.path\n",
    "sys.path.append(os.path.abspath(\"..\"))\n",
    "\n",
    "\n",
    "import torch\n",
    "import time\n",
    "import numpy as np\n",
    "\n",
    "\n",
    "from training_algorithms.gymnasium_reinforce import REINFORCE\n",
    "from env.test_env import Car, CarEnv\n",
    "from env.sail_env import SailboatEnv \n",
    "from env.sail_env_basic import BasicSailboatEnv\n",
    "\n",
    "os.chdir('/home/wizard/MSc Mathematics RUG/Study/2024-2025/1b/Deep Learning/ZephyrRL/src/env')"
   ]
  },
  {
   "cell_type": "code",
   "execution_count": null,
   "metadata": {},
   "outputs": [
    {
     "name": "stdout",
     "output_type": "stream",
     "text": [
      "Episode: 0 Reward -1.8124346642431985\n",
      "Episode: 10 Reward -1.50680834898643\n",
      "Episode: 20 Reward -1.1171014743992882\n",
      "Episode: 30 Reward -1.2744173985204266\n",
      "Episode: 40 Reward -2.05654614183668\n",
      "Episode: 50 Reward -2.003017771873231\n",
      "Episode: 60 Reward -1.6069937936224945\n"
     ]
    }
   ],
   "source": [
    "# Create and wrap the environment\n",
    "env = BasicSailboatEnv()\n",
    "\n",
    "\n",
    "total_num_episodes = int(5e3)  # Total number of episodes\n",
    "\n",
    "\n",
    "obs_space_dims = 8 #create obervation space\n",
    "action_space_dims = 1 #create action space\n",
    "\n",
    "seed = 42\n",
    "\n",
    "\n",
    "# Reinitialize agent every seed\n",
    "agent = REINFORCE(obs_space_dims, action_space_dims)\n",
    "reward_over_episodes = []\n",
    "\n",
    "for episode in range(total_num_episodes):\n",
    "    \n",
    "    obs = env.reset() \n",
    "\n",
    "    episode_reward = 0\n",
    "    done = False\n",
    "    while not done:\n",
    "        action = agent.sample_action(obs)\n",
    "\n",
    "        # Step return type - `tuple[ObsType, SupportsFloat, bool, bool, dict[str, Any]]`\n",
    "        # These represent the next observation, the reward from the step,\n",
    "        # if the episode is terminated, if the episode is truncated and\n",
    "        # additional info from the step\n",
    "        obs, reward, done, info = env.step(action) #this needs to be changed\n",
    "        agent.rewards.append(reward)\n",
    "        episode_reward += reward\n",
    "        # End the episode when either truncated or terminated is true\n",
    "        #  - truncated: The episode duration reaches max number of timesteps\n",
    "        #  - terminated: Any of the state space values is no longer finite.\n",
    "        \n",
    "        if episode % 10 == 0:\n",
    "            \n",
    "        \n",
    "            time.sleep(1/60)\n",
    "            env.draw()\n",
    "\n",
    "\n",
    "    reward_over_episodes.append(episode_reward) \n",
    "    agent.update()\n",
    "\n",
    "    if episode % 10 == 0:\n",
    "        avg_reward = np.mean(reward_over_episodes)\n",
    "        #print(\"Episode:\", episode, \"Average Reward:\", avg_reward)\n",
    "        print('Episode:', episode, 'Reward', episode_reward)\n",
    "    \n",
    "        time.sleep(1/60)\n",
    "        env.draw()\n",
    "        \n",
    "\n",
    "\n"
   ]
  },
  {
   "cell_type": "code",
   "execution_count": null,
   "metadata": {},
   "outputs": [],
   "source": []
  }
 ],
 "metadata": {
  "kernelspec": {
   "display_name": "Python 3",
   "language": "python",
   "name": "python3"
  },
  "language_info": {
   "codemirror_mode": {
    "name": "ipython",
    "version": 3
   },
   "file_extension": ".py",
   "mimetype": "text/x-python",
   "name": "python",
   "nbconvert_exporter": "python",
   "pygments_lexer": "ipython3",
   "version": "3.10.12"
  }
 },
 "nbformat": 4,
 "nbformat_minor": 2
}
